{
 "cells": [
  {
   "cell_type": "code",
   "execution_count": 15,
   "metadata": {},
   "outputs": [
    {
     "name": "stdout",
     "output_type": "stream",
     "text": [
      "       timeStamp  elapsed         label responseCode responseMessage  \\\n",
      "0  1715662041065      483  HTTP Request          200              OK   \n",
      "1  1715662041065      483  HTTP Request          200              OK   \n",
      "2  1715662041066      483  HTTP Request          200              OK   \n",
      "3  1715662041496      108  HTTP Request          200              OK   \n",
      "4  1715662041486      118  HTTP Request          200              OK   \n",
      "\n",
      "      threadName dataType  success  failureMessage  bytes  sentBytes  \\\n",
      "0   ConTest 1-17      NaN     True             NaN    147        116   \n",
      "1   ConTest 1-19      NaN     True             NaN    147        116   \n",
      "2   ConTest 1-12      NaN     True             NaN    147        116   \n",
      "3  ConTest 1-109      NaN     True             NaN    147        116   \n",
      "4  ConTest 1-107      NaN     True             NaN    147        116   \n",
      "\n",
      "   grpThreads  allThreads                      URL  Latency  IdleTime  Connect  \n",
      "0         119         119  https://localhost:8889/      476         0      386  \n",
      "1         119         119  https://localhost:8889/      479         0      437  \n",
      "2         119         119  https://localhost:8889/      479         0      430  \n",
      "3         130         130  https://localhost:8889/      108         0       64  \n",
      "4         130         130  https://localhost:8889/      118         0       23  \n"
     ]
    }
   ],
   "source": [
    "import pandas as pd\n",
    "\n",
    "# Baca file CSV\n",
    "df = pd.read_csv('c200.csv')\n",
    "\n",
    "# Tampilkan beberapa baris pertama untuk memverifikasi data\n",
    "print(df.head())\n"
   ]
  },
  {
   "cell_type": "code",
   "execution_count": 16,
   "metadata": {},
   "outputs": [
    {
     "name": "stdout",
     "output_type": "stream",
     "text": [
      "   elapsed  Connect  Latency  Processing Time  Waiting Time\n",
      "0      483      386      476               90           476\n",
      "1      483      437      479               42           479\n",
      "2      483      430      479               49           479\n",
      "3      108       64      108               44           108\n",
      "4      118       23      118               95           118\n"
     ]
    }
   ],
   "source": [
    "# Tambahkan kolom Processing Time\n",
    "df['Processing Time'] = df['Latency'] - df['Connect']\n",
    "\n",
    "# Waiting Time sudah termasuk dalam Latency\n",
    "df['Waiting Time'] = df['Latency']\n",
    "\n",
    "# Tampilkan beberapa baris pertama untuk memverifikasi hasil perhitungan\n",
    "print(df[['elapsed', 'Connect', 'Latency', 'Processing Time', 'Waiting Time']].head())"
   ]
  },
  {
   "cell_type": "code",
   "execution_count": 17,
   "metadata": {},
   "outputs": [
    {
     "name": "stdout",
     "output_type": "stream",
     "text": [
      "Connect (x̄): 3945.392\n",
      "Processing (x̄): -69.061\n",
      "Waiting (x̄): 3876.331\n",
      "Total Connection Time (x̄): 4005.461\n"
     ]
    }
   ],
   "source": [
    "connect_mean = df['Connect'].mean()\n",
    "processing_mean = df['Processing Time'].mean()\n",
    "waiting_mean = df['Waiting Time'].mean()\n",
    "total_connection_time_mean = df['elapsed'].mean()\n",
    "\n",
    "print(f'Connect (x̄): {connect_mean}')\n",
    "print(f'Processing (x̄): {processing_mean}')\n",
    "print(f'Waiting (x̄): {waiting_mean}')\n",
    "print(f'Total Connection Time (x̄): {total_connection_time_mean}')\n"
   ]
  }
 ],
 "metadata": {
  "kernelspec": {
   "display_name": "Python 3",
   "language": "python",
   "name": "python3"
  },
  "language_info": {
   "codemirror_mode": {
    "name": "ipython",
    "version": 3
   },
   "file_extension": ".py",
   "mimetype": "text/x-python",
   "name": "python",
   "nbconvert_exporter": "python",
   "pygments_lexer": "ipython3",
   "version": "3.12.0"
  }
 },
 "nbformat": 4,
 "nbformat_minor": 2
}
