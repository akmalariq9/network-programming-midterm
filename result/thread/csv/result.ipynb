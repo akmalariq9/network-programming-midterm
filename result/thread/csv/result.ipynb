{
 "cells": [
  {
   "cell_type": "code",
   "execution_count": 13,
   "metadata": {},
   "outputs": [
    {
     "name": "stdout",
     "output_type": "stream",
     "text": [
      "      timeStamp  elapsed         label responseCode responseMessage  \\\n",
      "0  1.715660e+12      452  HTTP Request          200              OK   \n",
      "1  1.715660e+12      428  HTTP Request          200              OK   \n",
      "2  1.715660e+12      462  HTTP Request          200              OK   \n",
      "3  1.715660e+12       76  HTTP Request          200              OK   \n",
      "4  1.715660e+12       71  HTTP Request          200              OK   \n",
      "\n",
      "      threadName dataType  success  failureMessage  bytes  sentBytes  \\\n",
      "0   ConTest 1-11      NaN     True             NaN    147        116   \n",
      "1   ConTest 1-27      NaN     True             NaN    147        116   \n",
      "2    ConTest 1-7      NaN     True             NaN    147        116   \n",
      "3  ConTest 1-109      NaN     True             NaN    147        116   \n",
      "4  ConTest 1-111      NaN     True             NaN    147        116   \n",
      "\n",
      "   grpThreads  allThreads                      URL  Latency  IdleTime  Connect  \n",
      "0         112         112  https://localhost:8443/      448         0      445  \n",
      "1         112         112  https://localhost:8443/      418         0      382  \n",
      "2         114         114  https://localhost:8443/      461         0      457  \n",
      "3         124         124  https://localhost:8443/       75         0       33  \n",
      "4         125         125  https://localhost:8443/       70         0       65  \n"
     ]
    }
   ],
   "source": [
    "import pandas as pd\n",
    "\n",
    "# Baca file CSV\n",
    "df = pd.read_csv('c200.csv')\n",
    "\n",
    "# Tampilkan beberapa baris pertama untuk memverifikasi data\n",
    "print(df.head())\n"
   ]
  },
  {
   "cell_type": "code",
   "execution_count": 14,
   "metadata": {},
   "outputs": [
    {
     "name": "stdout",
     "output_type": "stream",
     "text": [
      "   elapsed  Connect  Latency  Processing Time  Waiting Time\n",
      "0      452      445      448                3           448\n",
      "1      428      382      418               36           418\n",
      "2      462      457      461                4           461\n",
      "3       76       33       75               42            75\n",
      "4       71       65       70                5            70\n"
     ]
    }
   ],
   "source": [
    "# Tambahkan kolom Processing Time\n",
    "df['Processing Time'] = df['Latency'] - df['Connect']\n",
    "\n",
    "# Waiting Time sudah termasuk dalam Latency\n",
    "df['Waiting Time'] = df['Latency']\n",
    "\n",
    "# Tampilkan beberapa baris pertama untuk memverifikasi hasil perhitungan\n",
    "print(df[['elapsed', 'Connect', 'Latency', 'Processing Time', 'Waiting Time']].head())"
   ]
  },
  {
   "cell_type": "code",
   "execution_count": 15,
   "metadata": {},
   "outputs": [
    {
     "name": "stdout",
     "output_type": "stream",
     "text": [
      "Connect (x̄): 19343.466\n",
      "Processing (x̄): -12388.778\n",
      "Waiting (x̄): 6954.688\n",
      "Total Connection Time (x̄): 19649.333\n"
     ]
    }
   ],
   "source": [
    "connect_mean = df['Connect'].mean()\n",
    "processing_mean = df['Processing Time'].mean()\n",
    "waiting_mean = df['Waiting Time'].mean()\n",
    "total_connection_time_mean = df['elapsed'].mean()\n",
    "\n",
    "print(f'Connect (x̄): {connect_mean}')\n",
    "print(f'Processing (x̄): {processing_mean}')\n",
    "print(f'Waiting (x̄): {waiting_mean}')\n",
    "print(f'Total Connection Time (x̄): {total_connection_time_mean}')\n"
   ]
  }
 ],
 "metadata": {
  "kernelspec": {
   "display_name": "Python 3",
   "language": "python",
   "name": "python3"
  },
  "language_info": {
   "codemirror_mode": {
    "name": "ipython",
    "version": 3
   },
   "file_extension": ".py",
   "mimetype": "text/x-python",
   "name": "python",
   "nbconvert_exporter": "python",
   "pygments_lexer": "ipython3",
   "version": "3.12.0"
  }
 },
 "nbformat": 4,
 "nbformat_minor": 2
}
